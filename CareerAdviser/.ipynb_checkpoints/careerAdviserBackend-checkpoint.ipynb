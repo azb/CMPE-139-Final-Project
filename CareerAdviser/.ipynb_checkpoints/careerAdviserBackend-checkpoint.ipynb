{
 "cells": [
  {
   "cell_type": "code",
   "execution_count": 2,
   "metadata": {},
   "outputs": [
    {
     "name": "stdout",
     "output_type": "stream",
     "text": [
      "Running  C:\\Users\\Arthur\\Anaconda2\\lib\\site-packages\\ipykernel_launcher.py\n",
      "Number of arguments:  3\n",
      "The arguments are:  ['C:\\\\Users\\\\Arthur\\\\Anaconda2\\\\lib\\\\site-packages\\\\ipykernel_launcher.py', '-f', 'C:\\\\Users\\\\Arthur\\\\AppData\\\\Roaming\\\\jupyter\\\\runtime\\\\kernel-322755c8-ff88-4bd4-b12c-b12e36054a71.json']\n",
      "hi\n"
     ]
    },
    {
     "data": {
      "text/plain": [
       "'hi'"
      ]
     },
     "execution_count": 2,
     "metadata": {},
     "output_type": "execute_result"
    }
   ],
   "source": [
    "import sys\n",
    "print \"Running \", sys.argv[0]\n",
    "print \"Number of arguments: \", len(sys.argv)\n",
    "print \"The arguments are: \" , str(sys.argv)\n",
    "\n",
    "print \"Press Enter to Exit\"\n",
    "raw_input()"
   ]
  },
  {
   "cell_type": "code",
   "execution_count": null,
   "metadata": {
    "collapsed": true
   },
   "outputs": [],
   "source": []
  }
 ],
 "metadata": {
  "kernelspec": {
   "display_name": "Python 2",
   "language": "python",
   "name": "python2"
  },
  "language_info": {
   "codemirror_mode": {
    "name": "ipython",
    "version": 2
   },
   "file_extension": ".py",
   "mimetype": "text/x-python",
   "name": "python",
   "nbconvert_exporter": "python",
   "pygments_lexer": "ipython2",
   "version": "2.7.13"
  }
 },
 "nbformat": 4,
 "nbformat_minor": 2
}
